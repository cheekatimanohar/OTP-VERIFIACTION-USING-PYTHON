{
  "cells": [
    {
      "cell_type": "code",
      "execution_count": null,
      "metadata": {
        "id": "_lxB9NJPk8EZ"
      },
      "outputs": [],
      "source": [
        "import os\n",
        "import math\n",
        "import random\n",
        "import smtplib\n",
        "\n",
        "digits=\"0123456789\"\n",
        "OTP=\"\"\n",
        "for i in range(6):\n",
        "    OTP+=digits[math.floor(random.random()*10)]\n",
        "otp = OTP + \" is your OTP\"\n",
        "msg= otp\n",
        "s = smtplib.SMTP('smtp.gmail.com', 587)\n",
        "s.starttls()\n",
        "emailid = input(\"Enter your email: \")\n",
        "s.login(\"manoharcheekati566@gmail.com\", \"ooxy bafq yjtz ypgj\")\n",
        "\n",
        "s.sendmail('manoharcheekati566@gmail.com',emailid,msg)\n",
        "while(1):\n",
        "    a = input(\"Enter Your OTP >>: \")\n",
        "    if a == OTP:\n",
        "        print(\"Verified\")\n",
        "        break\n",
        "    else:\n",
        "        print(\"Please Check your OTP again\")"
      ]
    }
  ],
  "metadata": {
    "colab": {
      "provenance": []
    },
    "kernelspec": {
      "display_name": "Python 3",
      "name": "python3"
    },
    "language_info": {
      "name": "python"
    }
  },
  "nbformat": 4,
  "nbformat_minor": 0
}
